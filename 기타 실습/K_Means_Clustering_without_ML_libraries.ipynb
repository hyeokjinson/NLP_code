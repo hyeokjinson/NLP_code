{
  "nbformat": 4,
  "nbformat_minor": 0,
  "metadata": {
    "kernelspec": {
      "display_name": "Python 3",
      "language": "python",
      "name": "python3"
    },
    "language_info": {
      "codemirror_mode": {
        "name": "ipython",
        "version": 3
      },
      "file_extension": ".py",
      "mimetype": "text/x-python",
      "name": "python",
      "nbconvert_exporter": "python",
      "pygments_lexer": "ipython3",
      "version": "3.6.3"
    },
    "colab": {
      "name": "K-Means-Clustering-without-ML-libraries.ipynb",
      "provenance": []
    }
  },
  "cells": [
    {
      "cell_type": "markdown",
      "metadata": {
        "id": "epIHggrJJmS9",
        "colab_type": "text"
      },
      "source": [
        "## K-Means Clustering Without ML Libraries ##\n",
        "K-Means Clustering is a machine learning tecnique used in unsupervised learning where we don't have labeled data. I wrote this algorithm without uing any of Machine Learning Libraries.\n",
        "\n",
        "### How K-Means Clustering Algorithm Works? ###\n",
        "- First algorithm creates k number of centers randomly.\n",
        "- Than, all data points are labeled using nearest centers.\n",
        "- Than, centers are moved to \"mean\" of their labeled data points.\n",
        "- Than stepa 2 and 3 are repeated."
      ]
    },
    {
      "cell_type": "markdown",
      "metadata": {
        "id": "YO4A_KaYJmS_",
        "colab_type": "text"
      },
      "source": [
        "### Import Libraries ###\n",
        "I use only numpy for math, random for random centers and matplotlib for data visualization"
      ]
    },
    {
      "cell_type": "code",
      "metadata": {
        "id": "Crp8NtT3JmS_",
        "colab_type": "code",
        "colab": {}
      },
      "source": [
        "import numpy as np\n",
        "import matplotlib.pyplot as plt\n",
        "import random\n",
        "# Use matplotlib in notebook output\n",
        "%matplotlib inline"
      ],
      "execution_count": 1,
      "outputs": []
    },
    {
      "cell_type": "markdown",
      "metadata": {
        "id": "4ploCSwWJmTD",
        "colab_type": "text"
      },
      "source": [
        "### Define Data ###\n",
        "First I will define a data to test the algorithm on. The data I am using in this notebook is fake data but to understand it, let's think it is player statistics of a soccer game."
      ]
    },
    {
      "cell_type": "code",
      "metadata": {
        "id": "6KysqsuKJmTE",
        "colab_type": "code",
        "colab": {}
      },
      "source": [
        "# Data - [average passes, average goals (player goals - opponent goals)]\n",
        "X = [[100,5], [90,5], [110,5], [97,4], [102,4], [112,4], [92,4], [95,3], [90,3], [100,3],\n",
        "     [110,5], [100,5], [110,4], [93,3], [107,2], [117,3], [96,2], [105,3], [100,3], [110,3],\n",
        "     [60,-1], [70,-1],[40,1], [70,-3], [50,-1], [80,0],[50,0],[60,-1],[60,1],[55,0],\n",
        "     [40,-1], [45,-1],[40,0], [55,-3], [60,-1], [65,0],[70,0],[51,-2],[51,1],[48,0]]"
      ],
      "execution_count": 2,
      "outputs": []
    },
    {
      "cell_type": "markdown",
      "metadata": {
        "id": "yFscvAc3JmTG",
        "colab_type": "text"
      },
      "source": [
        "### Plot the data on a 2d graph ###"
      ]
    },
    {
      "cell_type": "code",
      "metadata": {
        "id": "3VRVVquuJmTH",
        "colab_type": "code",
        "colab": {
          "base_uri": "https://localhost:8080/",
          "height": 284
        },
        "outputId": "e1458f47-291e-4877-cbd8-dff1bc1ea04d"
      },
      "source": [
        "plotx = []\n",
        "ploty = []\n",
        "for i in range(len(X)):\n",
        "    plotx.append(X[i][0])\n",
        "    ploty.append(X[i][1])\n",
        "plt.plot(plotx,ploty, 'bo')"
      ],
      "execution_count": 3,
      "outputs": [
        {
          "output_type": "execute_result",
          "data": {
            "text/plain": [
              "[<matplotlib.lines.Line2D at 0x7fcf82f6ac18>]"
            ]
          },
          "metadata": {
            "tags": []
          },
          "execution_count": 3
        },
        {
          "output_type": "display_data",
          "data": {
            "image/png": "[encoded data removed]",
            "text/plain": [
              "<Figure size 432x288 with 1 Axes>"
            ]
          },
          "metadata": {
            "tags": [],
            "needs_background": "light"
          }
        }
      ]
    },
    {
      "cell_type": "markdown",
      "metadata": {
        "id": "AFe4eERkJmTR",
        "colab_type": "text"
      },
      "source": [
        "###  Helper Functions ###"
      ]
    },
    {
      "cell_type": "code",
      "metadata": {
        "id": "NjISipPtJmTS",
        "colab_type": "code",
        "colab": {}
      },
      "source": [
        "def random_centers(dim,k):\n",
        "    centers = []\n",
        "    for i in range(k):\n",
        "        center = []\n",
        "        for d in range(dim):\n",
        "            rand = random.randint(0,100)\n",
        "            center.append(rand)\n",
        "        centers.append(center)\n",
        "    return centers\n",
        "\n",
        "def point_clustering(data, centers, dims, first_cluster=False):\n",
        "    for point in data:\n",
        "        nearest_center = 0\n",
        "        nearest_center_dist = None\n",
        "        for i in range(0, len(centers)):\n",
        "            euclidean_dist = 0\n",
        "            for d in range(0, dims):\n",
        "                dist = abs(point[d] - centers[i][d])\n",
        "                euclidean_dist += dist\n",
        "            euclidean_dist = np.sqrt(euclidean_dist)\n",
        "            if nearest_center_dist == None:\n",
        "                nearest_center_dist = euclidean_dist\n",
        "                nearest_center = i\n",
        "            elif nearest_center_dist > euclidean_dist:\n",
        "                nearest_center_dist = euclidean_dist\n",
        "                nearest_center = i\n",
        "        if first_cluster:\n",
        "            point.append(nearest_center)\n",
        "        else:\n",
        "            point[-1] = nearest_center\n",
        "    return data\n",
        "\n",
        "def mean_center(data, centers, dims):\n",
        "    print('centers:', centers, 'dims:', dims)\n",
        "    new_centers = []\n",
        "    for i in range(len(centers)):\n",
        "        new_center = []\n",
        "        n_of_points = 0\n",
        "        total_of_points = []\n",
        "        for point in data:\n",
        "            if point[-1] == i:\n",
        "                n_of_points += 1\n",
        "                for dim in range(0,dims):\n",
        "                    if dim < len(total_of_points):\n",
        "                        total_of_points[dim] += point[dim]\n",
        "                    else:\n",
        "                        total_of_points.append(point[dim])\n",
        "        if len(total_of_points) != 0:\n",
        "            for dim in range(0,dims):\n",
        "                print(total_of_points, dim)\n",
        "                new_center.append(total_of_points[dim]/n_of_points)\n",
        "            new_centers.append(new_center)\n",
        "        else: \n",
        "            new_centers.append(centers[i])\n",
        "        \n",
        "            \n",
        "    return new_centers"
      ],
      "execution_count": 4,
      "outputs": []
    },
    {
      "cell_type": "markdown",
      "metadata": {
        "id": "nYHh_EP7JmTY",
        "colab_type": "text"
      },
      "source": [
        "### K-Means Clustering Algorithm ###"
      ]
    },
    {
      "cell_type": "code",
      "metadata": {
        "id": "G5GVI-CyJmTZ",
        "colab_type": "code",
        "colab": {}
      },
      "source": [
        "# Gets data and k, returns a list of center points.\n",
        "def train_k_means_clustering(data, k=2, epochs=5):\n",
        "    dims = len(data[0])\n",
        "    print('data[0]:',data[0])\n",
        "    centers = random_centers(dims,k)\n",
        "    \n",
        "    clustered_data = point_clustering(data, centers, dims, first_cluster=True)\n",
        "\n",
        "    for i in range(epochs):\n",
        "        centers = mean_center(clustered_data, centers, dims)\n",
        "        clustered_data = point_clustering(data, centers, dims, first_cluster=False)\n",
        "    \n",
        "    return centers\n",
        "\n",
        "def predict_k_means_clustering(point, centers):\n",
        "    dims = len(point)\n",
        "    center_dims = len(centers[0])\n",
        "    \n",
        "    if dims != center_dims:\n",
        "        raise ValueError('Point given for prediction have', dims, 'dimensions but centers have', center_dims, 'dimensions')\n",
        "\n",
        "    nearest_center = None\n",
        "    nearest_dist = None\n",
        "    \n",
        "    for i in range(len(centers)):\n",
        "        euclidean_dist = 0\n",
        "        for dim in range(1, dims):\n",
        "            dist = point[dim] - centers[i][dim]\n",
        "            euclidean_dist += dist**2\n",
        "        euclidean_dist = np.sqrt(euclidean_dist)\n",
        "        if nearest_dist == None:\n",
        "            nearest_dist = euclidean_dist\n",
        "            nearest_center = i\n",
        "        elif nearest_dist > euclidean_dist:\n",
        "            nearest_dist = euclidean_dist\n",
        "            nearest_center = i\n",
        "        print('center:',i, 'dist:',euclidean_dist)\n",
        "            \n",
        "    return nearest_center"
      ],
      "execution_count": 5,
      "outputs": []
    },
    {
      "cell_type": "code",
      "metadata": {
        "id": "I62ZoLiOJmTe",
        "colab_type": "code",
        "colab": {
          "base_uri": "https://localhost:8080/",
          "height": 503
        },
        "outputId": "1f668b0b-4bfd-4a6e-a558-b981495bfccc"
      },
      "source": [
        "centers = train_k_means_clustering(X, k=2, epochs=5)"
      ],
      "execution_count": 6,
      "outputs": [
        {
          "output_type": "stream",
          "text": [
            "data[0]: [100, 5]\n",
            "centers: [[52, 88], [37, 78]] dims: 2\n",
            "[2943, 62] 0\n",
            "[2943, 62] 1\n",
            "[213, -1] 0\n",
            "[213, -1] 1\n",
            "centers: [[84.08571428571429, 1.7714285714285714], [42.6, -0.2]] dims: 2\n",
            "[2391, 69] 0\n",
            "[2391, 69] 1\n",
            "[765, -8] 0\n",
            "[765, -8] 1\n",
            "centers: [[95.64, 2.76], [51.0, -0.5333333333333333]] dims: 2\n",
            "[2116, 73] 0\n",
            "[2116, 73] 1\n",
            "[1040, -12] 0\n",
            "[1040, -12] 1\n",
            "centers: [[100.76190476190476, 3.4761904761904763], [54.73684210526316, -0.631578947368421]] dims: 2\n",
            "[2116, 73] 0\n",
            "[2116, 73] 1\n",
            "[1040, -12] 0\n",
            "[1040, -12] 1\n",
            "centers: [[100.76190476190476, 3.4761904761904763], [54.73684210526316, -0.631578947368421]] dims: 2\n",
            "[2116, 73] 0\n",
            "[2116, 73] 1\n",
            "[1040, -12] 0\n",
            "[1040, -12] 1\n"
          ],
          "name": "stdout"
        }
      ]
    },
    {
      "cell_type": "code",
      "metadata": {
        "id": "c_3TlbkIJmTj",
        "colab_type": "code",
        "colab": {
          "base_uri": "https://localhost:8080/",
          "height": 36
        },
        "outputId": "174ba075-7dfd-42bd-e67d-e666a9e9575a"
      },
      "source": [
        "print(centers)"
      ],
      "execution_count": 7,
      "outputs": [
        {
          "output_type": "stream",
          "text": [
            "[[100.76190476190476, 3.4761904761904763], [54.73684210526316, -0.631578947368421]]\n"
          ],
          "name": "stdout"
        }
      ]
    },
    {
      "cell_type": "code",
      "metadata": {
        "id": "6hpCurb4JmTm",
        "colab_type": "code",
        "colab": {
          "base_uri": "https://localhost:8080/",
          "height": 377
        },
        "outputId": "9b6a5788-30df-48a1-fcb6-52fe7ebe7823"
      },
      "source": [
        "point = [110,3]\n",
        "print(predict_k_means_clustering(point, centers))\n",
        "\n",
        "plt.plot(plotx,ploty, 'bo', centers[0][0], centers[0][1],'ro', centers[1][0], centers[1][1], 'go')"
      ],
      "execution_count": 9,
      "outputs": [
        {
          "output_type": "stream",
          "text": [
            "center: 0 dist: 0.4761904761904763\n",
            "center: 1 dist: 3.6315789473684212\n",
            "0\n"
          ],
          "name": "stdout"
        },
        {
          "output_type": "execute_result",
          "data": {
            "text/plain": [
              "[<matplotlib.lines.Line2D at 0x7fcf829dd240>,\n",
              " <matplotlib.lines.Line2D at 0x7fcf829dd320>,\n",
              " <matplotlib.lines.Line2D at 0x7fcf829dd470>]"
            ]
          },
          "metadata": {
            "tags": []
          },
          "execution_count": 9
        },
        {
          "output_type": "display_data",
          "data": {
            "image/png": "[encoded data removed]",
            "text/plain": [
              "<Figure size 432x288 with 1 Axes>"
            ]
          },
          "metadata": {
            "tags": [],
            "needs_background": "light"
          }
        }
      ]
    },
    {
      "cell_type": "code",
      "metadata": {
        "id": "ZSdoZs1rJmTp",
        "colab_type": "code",
        "colab": {}
      },
      "source": [
        ""
      ],
      "execution_count": 8,
      "outputs": []
    }
  ]
}