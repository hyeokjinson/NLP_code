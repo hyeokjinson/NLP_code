{
  "nbformat": 4,
  "nbformat_minor": 0,
  "metadata": {
    "colab": {
      "name": "bag_of_words.ipynb",
      "provenance": []
    },
    "kernelspec": {
      "name": "python3",
      "display_name": "Python 3"
    }
  },
  "cells": [
    {
      "cell_type": "code",
      "metadata": {
        "id": "ZwxXexDKmIwj",
        "colab_type": "code",
        "colab": {
          "base_uri": "https://localhost:8080/",
          "height": 316
        },
        "outputId": "5ec5e011-2d52-4580-ac70-21667761ee4f"
      },
      "source": [
        "!pip install konlpy"
      ],
      "execution_count": 1,
      "outputs": [
        {
          "output_type": "stream",
          "text": [
            "Requirement already satisfied: konlpy in /usr/local/lib/python3.6/dist-packages (0.5.2)\n",
            "Requirement already satisfied: beautifulsoup4==4.6.0 in /usr/local/lib/python3.6/dist-packages (from konlpy) (4.6.0)\n",
            "Requirement already satisfied: tweepy>=3.7.0 in /usr/local/lib/python3.6/dist-packages (from konlpy) (3.9.0)\n",
            "Requirement already satisfied: lxml>=4.1.0 in /usr/local/lib/python3.6/dist-packages (from konlpy) (4.2.6)\n",
            "Requirement already satisfied: colorama in /usr/local/lib/python3.6/dist-packages (from konlpy) (0.4.3)\n",
            "Requirement already satisfied: JPype1>=0.7.0 in /usr/local/lib/python3.6/dist-packages (from konlpy) (1.0.2)\n",
            "Requirement already satisfied: numpy>=1.6 in /usr/local/lib/python3.6/dist-packages (from konlpy) (1.18.5)\n",
            "Requirement already satisfied: six>=1.10.0 in /usr/local/lib/python3.6/dist-packages (from tweepy>=3.7.0->konlpy) (1.15.0)\n",
            "Requirement already satisfied: requests[socks]>=2.11.1 in /usr/local/lib/python3.6/dist-packages (from tweepy>=3.7.0->konlpy) (2.23.0)\n",
            "Requirement already satisfied: requests-oauthlib>=0.7.0 in /usr/local/lib/python3.6/dist-packages (from tweepy>=3.7.0->konlpy) (1.3.0)\n",
            "Requirement already satisfied: typing-extensions; python_version < \"3.8\" in /usr/local/lib/python3.6/dist-packages (from JPype1>=0.7.0->konlpy) (3.7.4.3)\n",
            "Requirement already satisfied: urllib3!=1.25.0,!=1.25.1,<1.26,>=1.21.1 in /usr/local/lib/python3.6/dist-packages (from requests[socks]>=2.11.1->tweepy>=3.7.0->konlpy) (1.24.3)\n",
            "Requirement already satisfied: chardet<4,>=3.0.2 in /usr/local/lib/python3.6/dist-packages (from requests[socks]>=2.11.1->tweepy>=3.7.0->konlpy) (3.0.4)\n",
            "Requirement already satisfied: idna<3,>=2.5 in /usr/local/lib/python3.6/dist-packages (from requests[socks]>=2.11.1->tweepy>=3.7.0->konlpy) (2.10)\n",
            "Requirement already satisfied: certifi>=2017.4.17 in /usr/local/lib/python3.6/dist-packages (from requests[socks]>=2.11.1->tweepy>=3.7.0->konlpy) (2020.6.20)\n",
            "Requirement already satisfied: PySocks!=1.5.7,>=1.5.6; extra == \"socks\" in /usr/local/lib/python3.6/dist-packages (from requests[socks]>=2.11.1->tweepy>=3.7.0->konlpy) (1.7.1)\n",
            "Requirement already satisfied: oauthlib>=3.0.0 in /usr/local/lib/python3.6/dist-packages (from requests-oauthlib>=0.7.0->tweepy>=3.7.0->konlpy) (3.1.0)\n"
          ],
          "name": "stdout"
        }
      ]
    },
    {
      "cell_type": "code",
      "metadata": {
        "id": "Co5EGrL5mpcR",
        "colab_type": "code",
        "colab": {
          "base_uri": "https://localhost:8080/",
          "height": 70
        },
        "outputId": "03950eba-daa3-4b59-db19-56f6b487cf5e"
      },
      "source": [
        "from konlpy.tag import Kkma\n",
        "\n",
        "import nltk\n",
        "from nltk.tokenize import sent_tokenize\n",
        "\n",
        "nltk.download('punkt')"
      ],
      "execution_count": 2,
      "outputs": [
        {
          "output_type": "stream",
          "text": [
            "[nltk_data] Downloading package punkt to /root/nltk_data...\n",
            "[nltk_data]   Package punkt is already up-to-date!\n"
          ],
          "name": "stdout"
        },
        {
          "output_type": "execute_result",
          "data": {
            "text/plain": [
              "True"
            ]
          },
          "metadata": {
            "tags": []
          },
          "execution_count": 2
        }
      ]
    },
    {
      "cell_type": "code",
      "metadata": {
        "id": "z3Om9KH8mmGK",
        "colab_type": "code",
        "colab": {}
      },
      "source": [
        "class Tokenizer:\n",
        "  def __init__(self):\n",
        "    self.kkma = Kkma()\n",
        "\n",
        "  def make_vocab(self, documents):\n",
        "    word2index = {'<unk>':0}\n",
        "    for document in documents:\n",
        "      tokens = self.tokenize(document)\n",
        "      for voca in tokens:\n",
        "        if voca not in word2index.keys():\n",
        "          word2index[voca] = len(word2index)\n",
        "    self.vocab = word2index\n",
        "\n",
        "  def tokenize(self, document):\n",
        "    morphs = []\n",
        "    sentences = sent_tokenize(document)\n",
        "\n",
        "    for sentence in sentences:\n",
        "      sentence_morphs = self.kkma.pos(sentence)\n",
        "      morphs.extend([morph[0] + '/' + morph[1] for morph in sentence_morphs])\n",
        "\n",
        "    print(morphs)\n",
        "    return morphs\n",
        "  \n",
        "  def bag_of_words(self, sentence):\n",
        "    morphs = self.tokenize(sentence)\n",
        "    vector = [0] * len(self.vocab)\n",
        "    for morph in morphs:\n",
        "      if morph not in self.vocab.keys():\n",
        "        morph = '<unk>'\n",
        "      vector[self.vocab[morph]] += 1\n",
        "    \n",
        "    return vector"
      ],
      "execution_count": 16,
      "outputs": []
    },
    {
      "cell_type": "code",
      "metadata": {
        "id": "xvVaMDL3n3UG",
        "colab_type": "code",
        "colab": {
          "base_uri": "https://localhost:8080/",
          "height": 160
        },
        "outputId": "4725f668-af89-46b8-a1e0-0fba760f4a97"
      },
      "source": [
        "tokenizer = Tokenizer()\n",
        "texts = ['안녕하세요', '안녕하십니까', '오늘은 날씨가 좋네요', '기분이 좋아요']\n",
        "tokenizer.make_vocab(texts)\n",
        "\n",
        "print(tokenizer.vocab)\n",
        "\n",
        "tokenizer.bag_of_words('오늘은 날씨가 어떨 것 같으세요') # -> 문장의 벡터가 됨"
      ],
      "execution_count": 18,
      "outputs": [
        {
          "output_type": "stream",
          "text": [
            "['안녕/NNG', '하/XSV', '세요/EFN']\n",
            "['안녕/NNG', '하/XSV', '시/EPH', 'ㅂ니까/EFQ']\n",
            "['오늘/NNG', '은/JX', '날씨/NNG', '가/JKS', '좋/VA', '네요/EFN']\n",
            "['기분/NNG', '이/JKS', '좋/VA', '아요/EFN']\n",
            "{'<unk>': 0, '안녕/NNG': 1, '하/XSV': 2, '세요/EFN': 3, '시/EPH': 4, 'ㅂ니까/EFQ': 5, '오늘/NNG': 6, '은/JX': 7, '날씨/NNG': 8, '가/JKS': 9, '좋/VA': 10, '네요/EFN': 11, '기분/NNG': 12, '이/JKS': 13, '아요/EFN': 14}\n",
            "['오늘/NNG', '은/JX', '날씨/NNG', '가/JKS', '어떻/VA', 'ㄹ/ETD', '것/NNB', '같/VA', '으세요/EFA']\n"
          ],
          "name": "stdout"
        },
        {
          "output_type": "execute_result",
          "data": {
            "text/plain": [
              "[5, 0, 0, 0, 0, 0, 1, 1, 1, 1, 0, 0, 0, 0, 0]"
            ]
          },
          "metadata": {
            "tags": []
          },
          "execution_count": 18
        }
      ]
    },
    {
      "cell_type": "code",
      "metadata": {
        "id": "nSPLHIdHpMH4",
        "colab_type": "code",
        "colab": {}
      },
      "source": [
        ""
      ],
      "execution_count": null,
      "outputs": []
    }
  ]
}