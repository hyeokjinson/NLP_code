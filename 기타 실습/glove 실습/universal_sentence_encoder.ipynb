{
  "nbformat": 4,
  "nbformat_minor": 0,
  "metadata": {
    "colab": {
      "name": "universal_sentence_encoder.ipynb",
      "provenance": []
    },
    "kernelspec": {
      "name": "python3",
      "display_name": "Python 3"
    }
  },
  "cells": [
    {
      "cell_type": "code",
      "metadata": {
        "id": "sRbGTBxDhHFD",
        "colab_type": "code",
        "colab": {
          "base_uri": "https://localhost:8080/",
          "height": 776
        },
        "outputId": "d6203948-c72c-4421-80dd-61280dfa68fd"
      },
      "source": [
        "!pip install tensorflow_text"
      ],
      "execution_count": 1,
      "outputs": [
        {
          "output_type": "stream",
          "text": [
            "Collecting tensorflow_text\n",
            "\u001b[?25l  Downloading https://files.pythonhosted.org/packages/28/b2/2dbd90b93913afd07e6101b8b84327c401c394e60141c1e98590038060b3/tensorflow_text-2.3.0-cp36-cp36m-manylinux1_x86_64.whl (2.6MB)\n",
            "\u001b[K     |████████████████████████████████| 2.6MB 2.8MB/s \n",
            "\u001b[?25hRequirement already satisfied: tensorflow<2.4,>=2.3.0 in /usr/local/lib/python3.6/dist-packages (from tensorflow_text) (2.3.0)\n",
            "Requirement already satisfied: tensorflow-estimator<2.4.0,>=2.3.0 in /usr/local/lib/python3.6/dist-packages (from tensorflow<2.4,>=2.3.0->tensorflow_text) (2.3.0)\n",
            "Requirement already satisfied: gast==0.3.3 in /usr/local/lib/python3.6/dist-packages (from tensorflow<2.4,>=2.3.0->tensorflow_text) (0.3.3)\n",
            "Requirement already satisfied: keras-preprocessing<1.2,>=1.1.1 in /usr/local/lib/python3.6/dist-packages (from tensorflow<2.4,>=2.3.0->tensorflow_text) (1.1.2)\n",
            "Requirement already satisfied: wrapt>=1.11.1 in /usr/local/lib/python3.6/dist-packages (from tensorflow<2.4,>=2.3.0->tensorflow_text) (1.12.1)\n",
            "Requirement already satisfied: termcolor>=1.1.0 in /usr/local/lib/python3.6/dist-packages (from tensorflow<2.4,>=2.3.0->tensorflow_text) (1.1.0)\n",
            "Requirement already satisfied: grpcio>=1.8.6 in /usr/local/lib/python3.6/dist-packages (from tensorflow<2.4,>=2.3.0->tensorflow_text) (1.31.0)\n",
            "Requirement already satisfied: h5py<2.11.0,>=2.10.0 in /usr/local/lib/python3.6/dist-packages (from tensorflow<2.4,>=2.3.0->tensorflow_text) (2.10.0)\n",
            "Requirement already satisfied: protobuf>=3.9.2 in /usr/local/lib/python3.6/dist-packages (from tensorflow<2.4,>=2.3.0->tensorflow_text) (3.12.4)\n",
            "Requirement already satisfied: absl-py>=0.7.0 in /usr/local/lib/python3.6/dist-packages (from tensorflow<2.4,>=2.3.0->tensorflow_text) (0.8.1)\n",
            "Requirement already satisfied: numpy<1.19.0,>=1.16.0 in /usr/local/lib/python3.6/dist-packages (from tensorflow<2.4,>=2.3.0->tensorflow_text) (1.18.5)\n",
            "Requirement already satisfied: six>=1.12.0 in /usr/local/lib/python3.6/dist-packages (from tensorflow<2.4,>=2.3.0->tensorflow_text) (1.15.0)\n",
            "Requirement already satisfied: astunparse==1.6.3 in /usr/local/lib/python3.6/dist-packages (from tensorflow<2.4,>=2.3.0->tensorflow_text) (1.6.3)\n",
            "Requirement already satisfied: wheel>=0.26 in /usr/local/lib/python3.6/dist-packages (from tensorflow<2.4,>=2.3.0->tensorflow_text) (0.35.1)\n",
            "Requirement already satisfied: tensorboard<3,>=2.3.0 in /usr/local/lib/python3.6/dist-packages (from tensorflow<2.4,>=2.3.0->tensorflow_text) (2.3.0)\n",
            "Requirement already satisfied: google-pasta>=0.1.8 in /usr/local/lib/python3.6/dist-packages (from tensorflow<2.4,>=2.3.0->tensorflow_text) (0.2.0)\n",
            "Requirement already satisfied: opt-einsum>=2.3.2 in /usr/local/lib/python3.6/dist-packages (from tensorflow<2.4,>=2.3.0->tensorflow_text) (3.3.0)\n",
            "Requirement already satisfied: scipy==1.4.1 in /usr/local/lib/python3.6/dist-packages (from tensorflow<2.4,>=2.3.0->tensorflow_text) (1.4.1)\n",
            "Requirement already satisfied: setuptools in /usr/local/lib/python3.6/dist-packages (from protobuf>=3.9.2->tensorflow<2.4,>=2.3.0->tensorflow_text) (49.6.0)\n",
            "Requirement already satisfied: werkzeug>=0.11.15 in /usr/local/lib/python3.6/dist-packages (from tensorboard<3,>=2.3.0->tensorflow<2.4,>=2.3.0->tensorflow_text) (1.0.1)\n",
            "Requirement already satisfied: tensorboard-plugin-wit>=1.6.0 in /usr/local/lib/python3.6/dist-packages (from tensorboard<3,>=2.3.0->tensorflow<2.4,>=2.3.0->tensorflow_text) (1.7.0)\n",
            "Requirement already satisfied: requests<3,>=2.21.0 in /usr/local/lib/python3.6/dist-packages (from tensorboard<3,>=2.3.0->tensorflow<2.4,>=2.3.0->tensorflow_text) (2.23.0)\n",
            "Requirement already satisfied: google-auth-oauthlib<0.5,>=0.4.1 in /usr/local/lib/python3.6/dist-packages (from tensorboard<3,>=2.3.0->tensorflow<2.4,>=2.3.0->tensorflow_text) (0.4.1)\n",
            "Requirement already satisfied: markdown>=2.6.8 in /usr/local/lib/python3.6/dist-packages (from tensorboard<3,>=2.3.0->tensorflow<2.4,>=2.3.0->tensorflow_text) (3.2.2)\n",
            "Requirement already satisfied: google-auth<2,>=1.6.3 in /usr/local/lib/python3.6/dist-packages (from tensorboard<3,>=2.3.0->tensorflow<2.4,>=2.3.0->tensorflow_text) (1.17.2)\n",
            "Requirement already satisfied: chardet<4,>=3.0.2 in /usr/local/lib/python3.6/dist-packages (from requests<3,>=2.21.0->tensorboard<3,>=2.3.0->tensorflow<2.4,>=2.3.0->tensorflow_text) (3.0.4)\n",
            "Requirement already satisfied: urllib3!=1.25.0,!=1.25.1,<1.26,>=1.21.1 in /usr/local/lib/python3.6/dist-packages (from requests<3,>=2.21.0->tensorboard<3,>=2.3.0->tensorflow<2.4,>=2.3.0->tensorflow_text) (1.24.3)\n",
            "Requirement already satisfied: idna<3,>=2.5 in /usr/local/lib/python3.6/dist-packages (from requests<3,>=2.21.0->tensorboard<3,>=2.3.0->tensorflow<2.4,>=2.3.0->tensorflow_text) (2.10)\n",
            "Requirement already satisfied: certifi>=2017.4.17 in /usr/local/lib/python3.6/dist-packages (from requests<3,>=2.21.0->tensorboard<3,>=2.3.0->tensorflow<2.4,>=2.3.0->tensorflow_text) (2020.6.20)\n",
            "Requirement already satisfied: requests-oauthlib>=0.7.0 in /usr/local/lib/python3.6/dist-packages (from google-auth-oauthlib<0.5,>=0.4.1->tensorboard<3,>=2.3.0->tensorflow<2.4,>=2.3.0->tensorflow_text) (1.3.0)\n",
            "Requirement already satisfied: importlib-metadata; python_version < \"3.8\" in /usr/local/lib/python3.6/dist-packages (from markdown>=2.6.8->tensorboard<3,>=2.3.0->tensorflow<2.4,>=2.3.0->tensorflow_text) (1.7.0)\n",
            "Requirement already satisfied: rsa<5,>=3.1.4; python_version >= \"3\" in /usr/local/lib/python3.6/dist-packages (from google-auth<2,>=1.6.3->tensorboard<3,>=2.3.0->tensorflow<2.4,>=2.3.0->tensorflow_text) (4.6)\n",
            "Requirement already satisfied: cachetools<5.0,>=2.0.0 in /usr/local/lib/python3.6/dist-packages (from google-auth<2,>=1.6.3->tensorboard<3,>=2.3.0->tensorflow<2.4,>=2.3.0->tensorflow_text) (4.1.1)\n",
            "Requirement already satisfied: pyasn1-modules>=0.2.1 in /usr/local/lib/python3.6/dist-packages (from google-auth<2,>=1.6.3->tensorboard<3,>=2.3.0->tensorflow<2.4,>=2.3.0->tensorflow_text) (0.2.8)\n",
            "Requirement already satisfied: oauthlib>=3.0.0 in /usr/local/lib/python3.6/dist-packages (from requests-oauthlib>=0.7.0->google-auth-oauthlib<0.5,>=0.4.1->tensorboard<3,>=2.3.0->tensorflow<2.4,>=2.3.0->tensorflow_text) (3.1.0)\n",
            "Requirement already satisfied: zipp>=0.5 in /usr/local/lib/python3.6/dist-packages (from importlib-metadata; python_version < \"3.8\"->markdown>=2.6.8->tensorboard<3,>=2.3.0->tensorflow<2.4,>=2.3.0->tensorflow_text) (3.1.0)\n",
            "Requirement already satisfied: pyasn1>=0.1.3 in /usr/local/lib/python3.6/dist-packages (from rsa<5,>=3.1.4; python_version >= \"3\"->google-auth<2,>=1.6.3->tensorboard<3,>=2.3.0->tensorflow<2.4,>=2.3.0->tensorflow_text) (0.4.8)\n",
            "Installing collected packages: tensorflow-text\n",
            "Successfully installed tensorflow-text-2.3.0\n"
          ],
          "name": "stdout"
        }
      ]
    },
    {
      "cell_type": "code",
      "metadata": {
        "id": "YkYnhdt7hhVK",
        "colab_type": "code",
        "colab": {}
      },
      "source": [
        "import tensorflow as tf\n",
        "import tensorflow_text\n",
        "import tensorflow_hub as hub"
      ],
      "execution_count": 2,
      "outputs": []
    },
    {
      "cell_type": "code",
      "metadata": {
        "id": "LCHWhiiXhrsN",
        "colab_type": "code",
        "colab": {}
      },
      "source": [
        "model_url = 'https://tfhub.dev/google/universal-sentence-encoder-multilingual/3'\n",
        "model = hub.load(model_url)"
      ],
      "execution_count": 3,
      "outputs": []
    },
    {
      "cell_type": "code",
      "metadata": {
        "id": "FkUhR1zQh1Lk",
        "colab_type": "code",
        "colab": {}
      },
      "source": [
        "sentence = '안녕하세요'"
      ],
      "execution_count": 4,
      "outputs": []
    },
    {
      "cell_type": "code",
      "metadata": {
        "id": "2XD5BIswh8aT",
        "colab_type": "code",
        "colab": {}
      },
      "source": [
        "vector = model([sentence])"
      ],
      "execution_count": 5,
      "outputs": []
    },
    {
      "cell_type": "code",
      "metadata": {
        "id": "Y4YpLadBiCT4",
        "colab_type": "code",
        "colab": {
          "base_uri": "https://localhost:8080/",
          "height": 1000
        },
        "outputId": "cc946d1a-23db-4e07-b491-53e753916e2a"
      },
      "source": [
        "print(vector)"
      ],
      "execution_count": 6,
      "outputs": [
        {
          "output_type": "stream",
          "text": [
            "tf.Tensor(\n",
            "[[ 9.87523347e-02  1.91496648e-02 -3.21585424e-02  5.38472377e-04\n",
            "  -8.57185870e-02  2.59576626e-02  4.78605106e-02  1.75972246e-02\n",
            "  -3.73167358e-02 -3.76004726e-02 -1.08870724e-02 -5.37426881e-02\n",
            "   4.58669476e-02 -4.01960015e-02 -6.84366450e-02  5.01314662e-02\n",
            "   2.01628194e-03 -2.37592645e-02  5.78441955e-02 -6.69931248e-02\n",
            "  -1.48975607e-02  1.94956618e-03 -1.04987109e-03 -2.80909874e-02\n",
            "   7.29438588e-02  1.48266954e-02  4.32198830e-02  6.80290256e-03\n",
            "   1.29095996e-02  3.78916003e-02 -9.23845265e-03 -2.89273616e-02\n",
            "  -8.33193064e-02 -5.79130016e-02  4.80811633e-02 -1.18386514e-01\n",
            "  -1.78603213e-02  2.42158715e-02 -1.35245183e-02  3.50293983e-03\n",
            "  -3.34961899e-02 -3.89223010e-03 -2.35033128e-02 -3.53493206e-02\n",
            "  -2.19728588e-03 -1.64502207e-02 -8.17794502e-02 -5.40581457e-02\n",
            "   2.11588629e-02  1.60496775e-02 -4.05970886e-02 -8.55189096e-03\n",
            "  -6.49317056e-02 -2.39756238e-02 -3.45877595e-02 -1.40885457e-01\n",
            "  -2.64601819e-02 -9.99501441e-03  2.05045938e-02  5.88887818e-02\n",
            "   2.34485138e-02  2.01300140e-02 -3.56805976e-03  5.74398413e-02\n",
            "   1.24771474e-02  2.89958976e-02  4.85609146e-03  5.85274734e-02\n",
            "   3.29372771e-02 -8.05635564e-03  1.12170555e-01 -4.81912158e-02\n",
            "  -6.33712113e-02 -1.87170431e-02  3.15822698e-02 -3.41305509e-02\n",
            "   5.65873235e-02  2.41776481e-02  5.25431260e-02  1.49921626e-01\n",
            "  -1.48309767e-01  2.37327814e-02 -6.22793771e-02 -6.30647615e-02\n",
            "  -3.79071310e-02 -5.04955351e-02 -6.27892697e-03 -1.70115046e-02\n",
            "   2.89957761e-03  2.86104158e-02 -9.67671350e-03 -4.16626036e-02\n",
            "  -5.29964268e-02  5.83534548e-03 -2.40421500e-02 -2.34968849e-02\n",
            "  -8.29765126e-02 -3.51619534e-02  3.67802046e-02  2.76755895e-02\n",
            "   1.75294522e-02  1.76887773e-02  1.13669701e-01 -1.75975282e-02\n",
            "   2.55237836e-02  2.79945205e-03  5.08907251e-02 -4.78816964e-02\n",
            "   5.78232482e-02 -2.05861754e-03 -2.98462454e-02 -3.36994939e-02\n",
            "   5.58814593e-02 -2.73925893e-04 -5.72052449e-02 -2.98109520e-02\n",
            "  -3.98854092e-02 -2.87627857e-02  1.90294720e-02 -1.29747819e-02\n",
            "   5.84170707e-02  1.28481397e-02 -1.46330995e-02 -3.75614576e-02\n",
            "  -6.09023322e-04 -3.35387513e-02 -3.86247970e-02  5.65240756e-02\n",
            "   3.06692198e-02 -3.25005874e-02 -8.91945558e-04  6.80405945e-02\n",
            "   2.49162558e-02  8.37338716e-03 -4.14627790e-02 -9.31175351e-02\n",
            "   3.96474786e-02  8.90350863e-02 -3.40099633e-02  7.42502958e-02\n",
            "  -2.27573551e-02 -2.61855237e-02 -4.15081382e-02  6.69798478e-02\n",
            "  -1.32924497e-01  3.61146927e-02  6.04980513e-02 -6.18487783e-02\n",
            "   8.51194561e-03 -8.39188602e-03 -3.54232453e-02 -4.98323254e-02\n",
            "   2.49629319e-02  1.83677655e-02 -6.76829219e-02  9.56617203e-03\n",
            "  -8.34340602e-03 -1.80968468e-03  4.28014658e-02 -3.72571796e-02\n",
            "  -2.44674534e-02  2.04556882e-02 -2.98979767e-02  6.12737313e-02\n",
            "   5.59454132e-03  6.37215227e-02 -2.46294718e-02 -7.40549620e-03\n",
            "  -2.53347177e-02 -1.51904346e-02 -7.86431432e-02  5.42172156e-02\n",
            "  -6.61628172e-02 -7.99679291e-03  1.08588040e-02 -5.30595891e-02\n",
            "   1.50870159e-02 -2.51203869e-03 -4.87071928e-03  4.42665592e-02\n",
            "   2.73995511e-02  5.74945174e-02  2.55161747e-02  2.52360338e-03\n",
            "  -6.26249835e-02  4.52220961e-02  7.38148093e-02  1.68651417e-02\n",
            "  -5.07795922e-02  6.36191526e-03  9.01131779e-02  5.53973601e-04\n",
            "  -8.11077133e-02  1.34317879e-05 -2.07746271e-02  3.55173834e-02\n",
            "   8.41670111e-02 -2.63958462e-02 -1.29963562e-03  8.29156116e-03\n",
            "   9.53154340e-02 -4.38602977e-02  9.83943464e-04  1.50156720e-02\n",
            "   3.94041538e-02 -4.22840053e-03 -1.09814415e-02 -3.16245519e-02\n",
            "  -2.74831131e-02  2.35526008e-03  4.13324721e-02 -6.19167201e-02\n",
            "  -3.52099948e-02  3.83121744e-02 -2.82102693e-02 -5.27883694e-03\n",
            "  -6.32993206e-02  7.93937668e-02  6.10188656e-02 -2.02670414e-02\n",
            "  -2.25529224e-02 -4.60155234e-02 -1.07034789e-02 -1.99228395e-02\n",
            "   1.04218721e-01  5.02518099e-03  6.45111490e-04  8.33844393e-03\n",
            "   3.88661921e-02  2.06357683e-03 -4.68916781e-02 -2.36101933e-02\n",
            "  -6.89346865e-02  1.56024732e-02  6.03912845e-02  7.14222118e-02\n",
            "  -8.88119265e-03 -8.30510110e-02 -4.77835797e-02 -4.98308130e-02\n",
            "   8.69703200e-03  4.75338213e-02  2.23630834e-02 -1.67617220e-02\n",
            "   5.85123412e-02 -5.29794842e-02  7.77163776e-03 -4.46452610e-02\n",
            "  -5.72208092e-02 -3.00397701e-03  7.56689087e-02  2.31703836e-02\n",
            "   5.44688962e-02 -1.18544633e-02 -3.53663750e-02  2.93938890e-02\n",
            "   3.05038840e-02 -7.10493401e-02  2.25427598e-02 -2.17435434e-02\n",
            "  -2.35107709e-02  3.50717679e-02  6.42678067e-02  5.85984532e-03\n",
            "  -1.24566033e-02 -2.56095789e-02 -1.20628402e-02 -9.99985728e-04\n",
            "  -6.52495027e-02  2.50671580e-02 -2.90163830e-02 -4.84661870e-02\n",
            "  -6.17616661e-02  1.53337643e-02  4.24986100e-03 -1.64947044e-02\n",
            "  -1.27737699e-02  1.74225178e-02 -1.27746882e-02 -4.03994415e-03\n",
            "  -1.00317989e-02 -2.48321947e-02 -2.59047654e-02 -1.23008853e-02\n",
            "   4.93755154e-02  3.06563284e-02 -7.17590004e-02  1.27019687e-02\n",
            "  -2.56243665e-02 -3.65312137e-02 -3.80539969e-02  1.99644137e-02\n",
            "   1.81692783e-02 -4.72563952e-02  7.59587809e-02 -4.25341427e-02\n",
            "   1.20049417e-02 -2.61332132e-02  5.14720306e-02  5.34634525e-03\n",
            "   2.53291614e-02  4.52913940e-02 -4.82136980e-02 -6.91820756e-02\n",
            "  -2.62343716e-02 -7.54499342e-03 -4.61481363e-02  4.44727838e-02\n",
            "  -2.29319409e-02 -4.15463336e-02  2.96942666e-02  4.31799367e-02\n",
            "   1.82100255e-02  3.30145843e-02  3.80222313e-02 -5.15482910e-02\n",
            "  -2.32635010e-02 -2.07855254e-02 -3.27283181e-02  3.44474129e-02\n",
            "  -7.88492151e-03  1.16268247e-02 -6.23987466e-02 -2.21073795e-02\n",
            "   9.48105827e-02 -2.61766091e-02 -8.67944025e-03  3.35309058e-02\n",
            "   3.91056761e-02 -3.87043096e-02  4.96898368e-02  1.10855885e-02\n",
            "  -7.81020448e-02  9.26775113e-03  2.03882996e-02  1.18598053e-02\n",
            "   5.10544777e-02 -2.52836645e-02 -1.18544742e-01  4.43409644e-02\n",
            "  -1.36556244e-02  2.82459911e-02  2.65524555e-02 -3.99732991e-04\n",
            "   5.34237474e-02  5.40129803e-02 -6.40082136e-02 -2.16613917e-04\n",
            "  -2.25370517e-03  6.74465578e-03 -1.01816282e-01  1.94517300e-02\n",
            "   5.58381993e-03 -1.94378588e-02 -9.58650466e-03  2.34897807e-02\n",
            "  -6.85795816e-03 -3.84906232e-02 -2.65942570e-02 -2.53821611e-02\n",
            "  -1.73539575e-02  3.55425999e-02  4.16834913e-02  2.70440876e-02\n",
            "   3.19682173e-02 -2.91763432e-03 -6.18231595e-02 -1.11082874e-01\n",
            "  -6.39365837e-02 -2.75297854e-02  4.34248708e-02 -8.71966705e-02\n",
            "   3.13437521e-03 -5.08819148e-02  4.13238304e-03  5.18860146e-02\n",
            "  -7.20560774e-02  4.44567017e-02 -4.83575873e-02  4.96063791e-02\n",
            "   2.56750733e-02 -1.05782365e-02  1.45823294e-02  2.04148255e-02\n",
            "   5.46052903e-02 -3.66432332e-02 -2.25136448e-02 -5.98459318e-02\n",
            "  -8.26848149e-02  4.30529304e-02 -1.74343735e-02  1.29941460e-02\n",
            "  -1.50120761e-02 -6.88042417e-02 -2.64531560e-02  1.98448040e-02\n",
            "  -1.86846703e-02  5.73500767e-02 -3.09364852e-02  2.80419108e-03\n",
            "  -8.43228996e-02 -5.45225944e-03  5.12406416e-02 -3.31911556e-02\n",
            "   1.43589182e-02 -4.97560240e-02  4.89890799e-02 -3.42068449e-02\n",
            "  -1.66579224e-02  2.58603767e-02 -3.23834866e-02  2.59698499e-02\n",
            "  -5.60539179e-02 -1.43336998e-02 -1.13391588e-02  5.90065755e-02\n",
            "  -8.87874663e-02  1.29409237e-02  1.15273399e-02  4.31829393e-02\n",
            "   5.87253422e-02  3.33927013e-02 -8.03053472e-03  1.41062783e-02\n",
            "  -3.49818170e-02  2.90540047e-02 -6.56094700e-02  5.67779783e-03\n",
            "  -1.16584003e-02  3.98432426e-02  3.94376181e-02  4.60090898e-02\n",
            "  -6.53534010e-02 -5.91620132e-02 -2.68818755e-02 -3.04464698e-02\n",
            "   5.59644513e-02 -2.49288753e-02 -9.37967151e-02  1.35039715e-02\n",
            "  -9.79387481e-03  3.38038951e-02 -3.63080092e-02 -5.70790134e-02\n",
            "   3.00655905e-02  2.62390710e-02  7.02300221e-02  8.25636759e-02\n",
            "   4.02850239e-03  5.54860458e-02 -3.05139218e-02  4.60859649e-02\n",
            "  -4.16339226e-02  1.60655312e-04 -7.87780583e-02  3.72018702e-02\n",
            "  -5.30236121e-03  1.31312003e-02  2.53123604e-02 -5.47294952e-02\n",
            "  -4.47238417e-05 -4.87857796e-02  2.09662523e-02 -2.72939336e-02\n",
            "  -6.18146062e-02 -2.87145618e-02  3.83384265e-02  7.18135238e-02\n",
            "   1.88158806e-02 -2.87667923e-02  1.10276463e-02  5.79291321e-02\n",
            "  -3.68224531e-02  5.14277890e-02  4.23283018e-02 -5.27323186e-02\n",
            "   4.22271527e-02 -1.00666769e-02  5.19270413e-02  2.50531230e-02\n",
            "   5.61170503e-02  1.38967797e-01  1.81932263e-02 -3.43058333e-02\n",
            "  -2.83826422e-02 -6.26364574e-02  5.57672568e-02 -8.13950971e-02\n",
            "  -1.05863092e-02  1.87337049e-03  2.01918576e-02  1.05565852e-02\n",
            "  -7.98490830e-03  6.21927120e-02  1.18187563e-02  3.36899236e-02\n",
            "  -6.63865656e-02 -1.58459749e-02  9.83951241e-03 -3.96628492e-03\n",
            "   2.55680531e-02  4.18179929e-02 -5.55560626e-02 -1.74970366e-02\n",
            "   9.04183090e-03  4.79777604e-02  2.69322228e-02 -9.87695158e-03\n",
            "  -5.55373058e-02  2.39487505e-03  3.51828150e-02  4.55322117e-03]], shape=(1, 512), dtype=float32)\n"
          ],
          "name": "stdout"
        }
      ]
    },
    {
      "cell_type": "code",
      "metadata": {
        "id": "ktgk_jJuiEmX",
        "colab_type": "code",
        "colab": {}
      },
      "source": [
        "sentences = ['안녕하세요', '반갑습니다']\n",
        "vectors = model(sentences)"
      ],
      "execution_count": 7,
      "outputs": []
    },
    {
      "cell_type": "code",
      "metadata": {
        "id": "3tAoG16BiM7Y",
        "colab_type": "code",
        "colab": {}
      },
      "source": [
        "import numpy as np\n",
        "\n",
        "def cosine_similarity(A, B):\n",
        "    return np.dot(A, B) / (np.linalg.norm(A) * np.linalg.norm(B))"
      ],
      "execution_count": 8,
      "outputs": []
    },
    {
      "cell_type": "code",
      "metadata": {
        "id": "JkfpntwiiVrL",
        "colab_type": "code",
        "colab": {
          "base_uri": "https://localhost:8080/",
          "height": 34
        },
        "outputId": "29e3526f-fe23-49e8-9512-c61dbf142d88"
      },
      "source": [
        "print(cosine_similarity(vectors[0], vectors[1]))"
      ],
      "execution_count": 9,
      "outputs": [
        {
          "output_type": "stream",
          "text": [
            "0.5084684\n"
          ],
          "name": "stdout"
        }
      ]
    },
    {
      "cell_type": "code",
      "metadata": {
        "id": "tIDF1_phianH",
        "colab_type": "code",
        "colab": {
          "base_uri": "https://localhost:8080/",
          "height": 34
        },
        "outputId": "6b71225f-d354-4273-8d11-3b138953fdc3"
      },
      "source": [
        "sentences = ['안녕하세요', 'Hello, nice to meet you']\n",
        "vectors = model(sentences)\n",
        "print(cosine_similarity(vectors[0], vectors[1]))"
      ],
      "execution_count": 10,
      "outputs": [
        {
          "output_type": "stream",
          "text": [
            "0.60969937\n"
          ],
          "name": "stdout"
        }
      ]
    },
    {
      "cell_type": "code",
      "metadata": {
        "id": "bfjZLUVzilS8",
        "colab_type": "code",
        "colab": {}
      },
      "source": [
        ""
      ],
      "execution_count": null,
      "outputs": []
    }
  ]
}